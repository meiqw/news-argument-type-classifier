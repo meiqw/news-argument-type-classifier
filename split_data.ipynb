{
 "cells": [
  {
   "cell_type": "code",
   "execution_count": 1,
   "metadata": {
    "collapsed": true
   },
   "outputs": [],
   "source": [
    "f_num = {}\n",
    "with open('gold_standard.csv', encoding = 'utf-8') as f:\n",
    "    next(f)\n",
    "    for line in f:\n",
    "        f_id = line.split(',')[0][:3]\n",
    "        #print(f_id)\n",
    "        if f_id not in f_num:\n",
    "            f_num[f_id] = 1\n",
    "        else:\n",
    "            f_num[f_id] += 1\n",
    "#print(f_num)\n",
    "'''\n",
    "f_train = open('training.csv','w')\n",
    "f_dev = open('dev.csv','w')\n",
    "f_test = open('test.csv','w')\n",
    "\n",
    "with open('gold_standard.csv', encoding = 'latin-1') as f:\n",
    "    next(f)\n",
    "    for key in f_num:       \n",
    "        for i in range(int((8/10) * f_num[key])):\n",
    "            f_train.write(f.readline())\n",
    "        for i in range(int((1/10) * f_num[key])):\n",
    "            f_dev.write(f.readline())\n",
    "        for i in range(int((1/10) * f_num[key])):\n",
    "            f_test.write(f.readline())\n",
    "'''\n",
    "\n",
    "f_train_2 = open('training.csv','w')\n",
    "f_dev_2 = open('dev.csv','w')\n",
    "f_test_2 = open('test.csv','w')\n",
    "c_dict = {}\n",
    "with open('gold_standard.csv', encoding = 'utf-8') as f:\n",
    "    next(f)\n",
    "    for line in f:\n",
    "        f_id = line.split(',')[0][:3]\n",
    "        #print(f_num[f_id])\n",
    "        if f_id in c_dict:\n",
    "            c_dict[f_id] += 1\n",
    "        else:\n",
    "            c_dict[f_id] = 1\n",
    "        if c_dict[f_id] < (8/10) * f_num[f_id]:\n",
    "            f_train_2.write(line)\n",
    "        elif (8/10) * f_num[f_id] <= c_dict[f_id] and c_dict[f_id] < (9/10) * f_num[f_id]:\n",
    "            f_dev_2.write(line)\n",
    "        else:\n",
    "            f_test_2.write(line)\n",
    "\n"
   ]
  }
 ],
 "metadata": {
  "kernelspec": {
   "display_name": "Python 3",
   "language": "python",
   "name": "python3"
  },
  "language_info": {
   "codemirror_mode": {
    "name": "ipython",
    "version": 3
   },
   "file_extension": ".py",
   "mimetype": "text/x-python",
   "name": "python",
   "nbconvert_exporter": "python",
   "pygments_lexer": "ipython3",
   "version": "3.6.3"
  }
 },
 "nbformat": 4,
 "nbformat_minor": 2
}
