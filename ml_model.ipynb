{
 "cells": [
  {
   "cell_type": "markdown",
   "metadata": {},
   "source": [
    "## Imports"
   ]
  },
  {
   "cell_type": "code",
   "execution_count": 34,
   "metadata": {},
   "outputs": [],
   "source": [
    "from sklearn.linear_model import LogisticRegression\n",
    "from sklearn.metrics import accuracy_score\n",
    "from sklearn.metrics import classification_report\n",
    "from sklearn.feature_extraction import DictVectorizer\n",
    "\n",
    "from nltk.tokenize import word_tokenize \n",
    "from nltk import pos_tag\n",
    "\n",
    "import pandas as pd\n",
    "import os, re\n",
    "from collections import defaultdict\n"
   ]
  },
  {
   "cell_type": "markdown",
   "metadata": {},
   "source": [
    "## Preprocessing"
   ]
  },
  {
   "cell_type": "code",
   "execution_count": 35,
   "metadata": {},
   "outputs": [],
   "source": [
    "def read_csv(csv_path):\n",
    "    df = pd.read_csv(csv_path, encoding='utf-8')\n",
    "    df.drop(df[df['Gold'] == 'None'].index, inplace=True)\n",
    "    df.reset_index(drop=True, inplace=True)\n",
    "    \n",
    "    return df\n",
    "\n",
    "def count_tag_percent(data_frame):\n",
    "    print(data_frame['Gold'].value_counts())\n",
    "    "
   ]
  },
  {
   "cell_type": "markdown",
   "metadata": {},
   "source": [
    "## Feature selection"
   ]
  },
  {
   "cell_type": "code",
   "execution_count": 36,
   "metadata": {},
   "outputs": [],
   "source": [
    "def get_words_and_tags(row):\n",
    "    tokens = word_tokenize(row['Sentence'])\n",
    "    tags = [t for (w, t) in pos_tag(tokens)]\n",
    "    return tokens + tags\n",
    "\n",
    "def get_vocabulary(data_frame):\n",
    "    vocab = defaultdict(int)\n",
    "    for index, row in data_frame.iterrows():\n",
    "        words_and_tags = get_words_and_tags(row)\n",
    "        for word_or_tag in words_and_tags:\n",
    "            vocab[word_or_tag] += 1\n",
    "\n",
    "    common_vocab = {word for word, count in vocab.items() if count > 1}\n",
    "    return common_vocab\n",
    "\n",
    "def count_numbers(row):\n",
    "    matches = re.findall(r'\\d+', row['Sentence'])\n",
    "    return len(matches)\n",
    "\n",
    "def count_names(row):\n",
    "    matches = re.findall(r'([A-Z][a-z]*|Mr.|Mrs.|Ms.) [A-Z][a-z]*', row['Sentence'])\n",
    "    return len(matches)\n",
    "\n",
    "def count_pronouns(row):\n",
    "    pronouns = ['I', 'me', 'my', 'we', 'us', 'our']  # Use first-person pronouns only, to find anecdotes?\n",
    "    words = get_words_and_tags(row)\n",
    "    count = 0\n",
    "    for word in words:\n",
    "        if word in pronouns:\n",
    "            count += 1\n",
    "        \n",
    "    return count\n",
    "\n",
    "def count_connectives(row):\n",
    "    # Ideally use a pre-compiled list of connectives\n",
    "    connectives = ['and','but','yet','so','despite','indeed','while','thus','plus','even','although','however','because','eventually','meanwhile','since','as']\n",
    "    words = get_words_and_tags(row)\n",
    "    count = 0\n",
    "    for word in words:\n",
    "        if word in connectives:\n",
    "            count += 1\n",
    "    return count"
   ]
  },
  {
   "cell_type": "markdown",
   "metadata": {},
   "source": [
    "## Training and testing methods"
   ]
  },
  {
   "cell_type": "code",
   "execution_count": 37,
   "metadata": {},
   "outputs": [],
   "source": [
    "def featurize(data_frame, vocab):\n",
    "    cols = ['_label_']\n",
    "    feature_cols = list(vocab)\n",
    "    feature_cols.extend(['number_count', 'name_count', 'pronoun_count', 'connective_count'])\n",
    "    cols.extend(feature_cols)\n",
    "    \n",
    "    row_count = data_frame.shape[0]\n",
    "    feat_data_frame = pd.DataFrame(index=range(row_count), columns=cols)\n",
    "    feat_data_frame.fillna(0, inplace=True)\n",
    "    \n",
    "    for index, row in data_frame.iterrows():\n",
    "        feat_data_frame.loc[index,'_label_'] = row['Gold']\n",
    "        words_and_tags = get_words_and_tags(row)\n",
    "        \n",
    "        for word_or_tag in words_and_tags:\n",
    "            if word_or_tag in vocab:\n",
    "                feat_data_frame.loc[index, word_or_tag] += 1\n",
    "                \n",
    "        feat_data_frame.loc[index, 'number_count'] = count_numbers(row)\n",
    "        feat_data_frame.loc[index, 'name_count'] = count_names(row)\n",
    "        feat_data_frame.loc[index, 'pronoun_count'] = count_pronouns(row)\n",
    "        feat_data_frame.loc[index, 'connective_count'] = count_connectives(row)\n",
    "                \n",
    "    return feat_data_frame"
   ]
  },
  {
   "cell_type": "markdown",
   "metadata": {},
   "source": [
    "In order to be used in classifiers, the feature representations in the DataFrame need to be transformed into a matrix, and the labels need to be transformed into a vector. The shape of the feature matrix is (# of instances, # of features). "
   ]
  },
  {
   "cell_type": "code",
   "execution_count": 38,
   "metadata": {},
   "outputs": [],
   "source": [
    "def vectorize(df):\n",
    "    df.fillna(0, inplace=True)\n",
    "    data = list()\n",
    "    for index, row in df.iterrows():\n",
    "        datum = dict()\n",
    "        datum['bias'] = 1\n",
    "        for col in df.columns:\n",
    "            if not (col == \"_label_\" or col == 'index'):\n",
    "                datum[col] = row[col]\n",
    "        data.append(datum)\n",
    "    vec = DictVectorizer()\n",
    "    data = vec.fit_transform(data).toarray()\n",
    "    \n",
    "    labels = df._label_.values\n",
    "    \n",
    "    return data, labels"
   ]
  },
  {
   "cell_type": "code",
   "execution_count": 39,
   "metadata": {},
   "outputs": [],
   "source": [
    "def train_model(X_train,y_train, model):\n",
    "    model.fit(X_train,y_train)\n",
    "    \n",
    "    return model"
   ]
  },
  {
   "cell_type": "code",
   "execution_count": 40,
   "metadata": {},
   "outputs": [],
   "source": [
    "def test_model(X_test, y_test, model):\n",
    "    predictions = model.predict(X_test)\n",
    "    report = classification_report(predictions, y_test)\n",
    "    accuracy = accuracy_score(predictions, y_test)\n",
    "    return accuracy, report"
   ]
  },
  {
   "cell_type": "code",
   "execution_count": 41,
   "metadata": {},
   "outputs": [],
   "source": [
    "def classify(training_dataframe, test_dataframe):\n",
    "    print('Creating features...')\n",
    "    vocab = get_vocabulary(training_dataframe)\n",
    "    X_train, y_train = vectorize(featurize(training_dataframe, vocab))\n",
    "    X_test, y_test = vectorize(featurize(test_dataframe, vocab))\n",
    "    \n",
    "    print('Training model...')\n",
    "    model = LogisticRegression(multi_class='multinomial',penalty='l2', solver='lbfgs', max_iter=300, verbose=1)\n",
    "    model = train_model(X_train, y_train, model)\n",
    "    \n",
    "    accuracy, report = test_model(X_test, y_test, model)\n",
    "    print(report)\n",
    "    "
   ]
  },
  {
   "cell_type": "markdown",
   "metadata": {},
   "source": [
    "## Run it"
   ]
  },
  {
   "cell_type": "code",
   "execution_count": 43,
   "metadata": {
    "scrolled": false
   },
   "outputs": [
    {
     "name": "stdout",
     "output_type": "stream",
     "text": [
      "Gold Standard Counts:\n",
      "ASSERTION         552\n",
      "FACT-TESTIMONY    179\n",
      "NON-ARGUMENT       33\n",
      "OTHER-FORM         24\n",
      "RH-QUESTION        21\n",
      "ANECDOTE           20\n",
      "Name: Gold, dtype: int64\n",
      "Test Counts:\n",
      "ASSERTION         67\n",
      "FACT-TESTIMONY    15\n",
      "RH-QUESTION        3\n",
      "NON-ARGUMENT       2\n",
      "Name: Gold, dtype: int64\n",
      "\n",
      "\n",
      "Creating features...\n",
      "Training model...\n"
     ]
    },
    {
     "name": "stderr",
     "output_type": "stream",
     "text": [
      "[Parallel(n_jobs=1)]: Using backend SequentialBackend with 1 concurrent workers.\n"
     ]
    },
    {
     "name": "stdout",
     "output_type": "stream",
     "text": [
      "                precision    recall  f1-score   support\n",
      "\n",
      "     ASSERTION       0.97      0.92      0.94        71\n",
      "FACT-TESTIMONY       0.73      0.85      0.79        13\n",
      "  NON-ARGUMENT       1.00      1.00      1.00         2\n",
      "   RH-QUESTION       0.33      1.00      0.50         1\n",
      "\n",
      "     micro avg       0.91      0.91      0.91        87\n",
      "     macro avg       0.76      0.94      0.81        87\n",
      "  weighted avg       0.93      0.91      0.91        87\n",
      "\n",
      "Wall time: 32.3 s\n"
     ]
    },
    {
     "name": "stderr",
     "output_type": "stream",
     "text": [
      "[Parallel(n_jobs=1)]: Done   1 out of   1 | elapsed:    1.0s finished\n"
     ]
    }
   ],
   "source": [
    "%%time\n",
    "print('Gold Standard Counts:')\n",
    "gold_dataframe = read_csv('gold_standard.csv')\n",
    "count_tag_percent(gold_dataframe)\n",
    "\n",
    "training_dataframe = read_csv('training.csv')\n",
    "# devtest_dataframe = read_csv('dev.csv')\n",
    "test_dataframe = read_csv('test.csv')\n",
    "\n",
    "# print('Dev Set Counts:')\n",
    "# count_tag_percent(devtest_dataframe)\n",
    "print('Test Counts:')\n",
    "count_tag_percent(test_dataframe)\n",
    "\n",
    "print('\\n')\n",
    "classify(training_dataframe, test_dataframe)\n"
   ]
  },
  {
   "cell_type": "code",
   "execution_count": null,
   "metadata": {},
   "outputs": [],
   "source": []
  }
 ],
 "metadata": {
  "kernelspec": {
   "display_name": "Python 3",
   "language": "python",
   "name": "python3"
  },
  "language_info": {
   "codemirror_mode": {
    "name": "ipython",
    "version": 3
   },
   "file_extension": ".py",
   "mimetype": "text/x-python",
   "name": "python",
   "nbconvert_exporter": "python",
   "pygments_lexer": "ipython3",
   "version": "3.7.0"
  }
 },
 "nbformat": 4,
 "nbformat_minor": 2
}
